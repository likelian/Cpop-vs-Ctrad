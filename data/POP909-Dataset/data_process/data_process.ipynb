{
 "cells": [
  {
   "cell_type": "code",
   "execution_count": 1,
   "metadata": {},
   "outputs": [],
   "source": [
    "'''\n",
    "This is the data processing script for POP909:A Pop song Dataset for Music Arrangement Generation\n",
    "============\n",
    "It will allow you to quickly process the POP909 Files (Midi) into the Google Magenta's music representation \n",
    "    as like [Music Transformer](https://magenta.tensorflow.org/music-transformer) \n",
    "            [Performance RNN](https://magenta.tensorflow.org/performance-rnn).\n",
    "\n",
    "'''\n",
    "import pickle\n",
    "import os\n",
    "import sys\n",
    "import utils\n",
    "from processor import MidiEventProcessor\n",
    "import pretty_midi as pyd\n",
    "import numpy as np\n",
    "\n"
   ]
  },
  {
   "cell_type": "code",
   "execution_count": null,
   "metadata": {},
   "outputs": [],
   "source": [
    "total = 0\n",
    "def preprocess_midi(path):\n",
    "    global total\n",
    "    data = pyd.PrettyMIDI(path)\n",
    "    main_notes = []\n",
    "    acc_notes = []\n",
    "    for ins in data.instruments:\n",
    "        acc_notes.extend(ins.notes)\n",
    "    for i in range(len(main_notes)):\n",
    "        main_notes[i].start = round(main_notes[i].start,2)\n",
    "        main_notes[i].end = round(main_notes[i].end,2)\n",
    "    for i in range(len(acc_notes)):\n",
    "        acc_notes[i].start = round(acc_notes[i].start,2)\n",
    "        acc_notes[i].end = round(acc_notes[i].end,2)\n",
    "    main_notes.sort(key = lambda x:x.start)\n",
    "    acc_notes.sort(key = lambda x:x.start)\n",
    "    mpr = MidiEventProcessor()\n",
    "    repr_seq = mpr.encode([main_notes, acc_notes])\n",
    "    total += len(repr_seq)\n",
    "    return repr_seq\n",
    "\n",
    "def preprocess_pop909(midi_root, save_dir):\n",
    "    save_py = []\n",
    "    midi_paths = [d for d in os.listdir(midi_root)]\n",
    "    i = 0\n",
    "    out_fmt = '{}-{}.data'\n",
    "    for path in midi_paths:\n",
    "        print(' ', end='[{}]'.format(path), flush=True)\n",
    "        filename = midi_root + path\n",
    "        try:\n",
    "            data = preprocess_midi(filename)\n",
    "        except KeyboardInterrupt:\n",
    "            print(' Abort')\n",
    "            return\n",
    "        except EOFError:\n",
    "            print('EOF Error')\n",
    "            return\n",
    "        save_py.append(data)\n",
    "    save_py = np.array(save_py)\n",
    "    print(save_py.size)\n",
    "    np.save(\"pop909-event-token.npy\", save_py)\n",
    "            \n",
    "    \n",
    "# replace the folder with your POP909 data folder\n",
    "preprocess_pop909(\"../pop909\",\"midi_data/\")"
   ]
  }
 ],
 "metadata": {
  "kernelspec": {
   "display_name": "Python 3",
   "language": "python",
   "name": "python3"
  },
  "language_info": {
   "codemirror_mode": {
    "name": "ipython",
    "version": 3
   },
   "file_extension": ".py",
   "mimetype": "text/x-python",
   "name": "python",
   "nbconvert_exporter": "python",
   "pygments_lexer": "ipython3",
   "version": "3.7.0"
  }
 },
 "nbformat": 4,
 "nbformat_minor": 2
}
