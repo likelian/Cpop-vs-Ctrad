{
 "cells": [
  {
   "cell_type": "code",
   "execution_count": null,
   "metadata": {},
   "outputs": [],
   "source": [
    "from music21 import *"
   ]
  },
  {
   "cell_type": "markdown",
   "metadata": {},
   "source": [
    "## Intervals"
   ]
  },
  {
   "cell_type": "markdown",
   "metadata": {},
   "source": [
    "### measuring intervals\n",
    "\n",
    "The interval module calculates intervals. Notice that since an interval is a distance, it always needs two notes (start, stop) to calculate the distance. We don't know, for example, that the interval is sequential (i.e., melodic) or simultaneous (i.e., harmonic)."
   ]
  },
  {
   "cell_type": "code",
   "execution_count": null,
   "metadata": {},
   "outputs": [],
   "source": [
    "#example of how to measure the interval between two notes:\n",
    "n1 = note.Note('C4')\n",
    "n2 = note.Note('F5')\n",
    "i = (interval.Interval(n1, n2))\n",
    "i"
   ]
  },
  {
   "cell_type": "code",
   "execution_count": null,
   "metadata": {},
   "outputs": [],
   "source": [
    "# return the simple equivalent of the compound interval (collapse to less than 8ve)\n",
    "print(i.name+\",\", i.simpleNiceName)"
   ]
  },
  {
   "cell_type": "markdown",
   "metadata": {},
   "source": [
    "We can get the direction of the interval (assuming it is melodic, of course, otherwise it wouldn't make much sense)."
   ]
  },
  {
   "cell_type": "code",
   "execution_count": null,
   "metadata": {},
   "outputs": [],
   "source": [
    "i.direction"
   ]
  },
  {
   "cell_type": "markdown",
   "metadata": {},
   "source": [
    "Recall that enharmonics are not the same when it comes to intervals, so C to F# is a different diatonic interval from C to Gb:"
   ]
  },
  {
   "cell_type": "code",
   "execution_count": null,
   "metadata": {},
   "outputs": [],
   "source": [
    "int1 = (interval.Interval(note.Note('C4'),note.Note('F#4')))\n",
    "int2 = (interval.Interval(note.Note('C4'),note.Note('G-4')))"
   ]
  },
  {
   "cell_type": "code",
   "execution_count": null,
   "metadata": {},
   "outputs": [],
   "source": [
    "print(int1.name, int2.name)"
   ]
  },
  {
   "cell_type": "markdown",
   "metadata": {},
   "source": [
    "Of course, if you only have MIDI numbers, then you may get the wrong intervals sometimes. Since we don't know whether midi value 66 is F# or Gb, music21 will take a \"good guess\". "
   ]
  },
  {
   "cell_type": "code",
   "execution_count": null,
   "metadata": {},
   "outputs": [],
   "source": [
    "#two different ways of setting a note by midi number. The first is obviously simpler:\n",
    "midi1 = note.Note(60)\n",
    "midi2 = note.Note(pitch.Pitch(66))\n",
    "#calculate the interval:\n",
    "i = interval.Interval(midi1, midi2)\n",
    "i"
   ]
  },
  {
   "cell_type": "markdown",
   "metadata": {},
   "source": [
    "In this case we may want to return the interval size in semitones:"
   ]
  },
  {
   "cell_type": "code",
   "execution_count": null,
   "metadata": {},
   "outputs": [],
   "source": [
    "i.semitones"
   ]
  },
  {
   "cell_type": "markdown",
   "metadata": {},
   "source": [
    "Intervals can be categorized as consonant if their simple interval is one of any imperfect consonance (3rds, 6ths), or perfect consonance (Unisons, P5ths)\n",
    "\n",
    "Notice that fourths are not considered 'consonant' here. Music history may be your guide as to whether you should rely on this function or create your own."
   ]
  },
  {
   "cell_type": "code",
   "execution_count": null,
   "metadata": {},
   "outputs": [],
   "source": [
    "i.isConsonant()"
   ]
  },
  {
   "cell_type": "markdown",
   "metadata": {},
   "source": [
    "### melodic intervals\n",
    "\n",
    "Let's read in a file and calculate all the melodic intervals."
   ]
  },
  {
   "cell_type": "code",
   "execution_count": null,
   "metadata": {},
   "outputs": [],
   "source": [
    "myfile = 'musi4843-data/KernFiles/Essen/europa/england/england1.krn'"
   ]
  },
  {
   "cell_type": "code",
   "execution_count": null,
   "metadata": {},
   "outputs": [],
   "source": [
    "folk = converter.parse(myfile)"
   ]
  },
  {
   "cell_type": "code",
   "execution_count": null,
   "metadata": {},
   "outputs": [],
   "source": [
    "folk.show()"
   ]
  },
  {
   "cell_type": "markdown",
   "metadata": {},
   "source": [
    "Let's calculate all the melodic intervals and put them in a stream"
   ]
  },
  {
   "cell_type": "code",
   "execution_count": null,
   "metadata": {},
   "outputs": [],
   "source": [
    "#create an empty list to hold intervals\n",
    "intlist = []\n",
    "#iterate through each pair of notes in the piece and store consecutive intervals\n",
    "for i in folk.recurse().getElementsByClass('Note'):\n",
    "    if i.next('Note') is None:\n",
    "        continue\n",
    "    thisint = interval.Interval(i, i.next('Note'))\n",
    "    intlist.append(thisint)\n",
    "\n",
    "intlist\n",
    "    \n"
   ]
  },
  {
   "cell_type": "markdown",
   "metadata": {},
   "source": [
    "the `Counter` is a handy tool from the `collections` python module (not a music21 tool.)"
   ]
  },
  {
   "cell_type": "code",
   "execution_count": null,
   "metadata": {},
   "outputs": [],
   "source": [
    "from collections import Counter"
   ]
  },
  {
   "cell_type": "code",
   "execution_count": null,
   "metadata": {},
   "outputs": [],
   "source": [
    "Counter([i.name for i in intlist])"
   ]
  },
  {
   "cell_type": "code",
   "execution_count": null,
   "metadata": {},
   "outputs": [],
   "source": [
    "Counter([i.isConsonant() for i in intlist])"
   ]
  },
  {
   "cell_type": "markdown",
   "metadata": {},
   "source": [
    "We'll come back to the `pandas` library next week, but you can also pass any list into pandas as a Series object to take advantage of the many useful pandas functions such as `apply` and `value_counts`"
   ]
  },
  {
   "cell_type": "code",
   "execution_count": null,
   "metadata": {},
   "outputs": [],
   "source": [
    "import pandas as pd\n",
    "intseries = pd.Series(intlist)"
   ]
  },
  {
   "cell_type": "code",
   "execution_count": null,
   "metadata": {},
   "outputs": [],
   "source": [
    "intseries.apply(lambda x: x.diatonic.directedSemiSimpleName).value_counts()"
   ]
  },
  {
   "cell_type": "code",
   "execution_count": null,
   "metadata": {},
   "outputs": [],
   "source": [
    "intseries.apply(lambda x: x.diatonic.directedSemiSimpleName).value_counts().plot.bar()"
   ]
  },
  {
   "cell_type": "markdown",
   "metadata": {},
   "source": [
    "### Exercise 1 "
   ]
  },
  {
   "cell_type": "markdown",
   "metadata": {},
   "source": [
    "in the Essen/europa/danmark collection compare the melodic intervals of \"danmark4.krn\" and \"danmark5.krn\". Which one has a diminished fifth?"
   ]
  },
  {
   "cell_type": "markdown",
   "metadata": {},
   "source": [
    "## Iterating through local files \n",
    "Ensure that you have imported `music21` and `os` packages. Here is a helper function to load several files into a list for bulk (or sequential) analysis:"
   ]
  },
  {
   "cell_type": "code",
   "execution_count": null,
   "metadata": {},
   "outputs": [],
   "source": [
    "import os"
   ]
  },
  {
   "cell_type": "code",
   "execution_count": null,
   "metadata": {},
   "outputs": [],
   "source": [
    "# variable \"mydir\" must be a path to the directory with the files you want to parse - make sure to END WITH FORWARD SLASH\n",
    "def loadFileHelper(mydir):\n",
    "    all_files = []\n",
    "    for root, dirs, files in os.walk(mydir):\n",
    "         for file_name in files:\n",
    "            if file_name.endswith(('.mid','.krn','.mxl','.xml','mei')):\n",
    "                print(file_name) #un-comment if you want the function to printout all the filenames\n",
    "                all_files.append(converter.parse(mydir+file_name))\n",
    "    return(all_files)\n"
   ]
  },
  {
   "cell_type": "code",
   "execution_count": null,
   "metadata": {},
   "outputs": [],
   "source": [
    "myfiles = loadFileHelper('musi4843-data/KernFiles/Essen/europa/danmark/')"
   ]
  },
  {
   "cell_type": "markdown",
   "metadata": {},
   "source": [
    "### Exercise 2:\n",
    "Now you can answer the question: Do any of these files have melodic intervals greater than a tritone? If so, which ones?"
   ]
  },
  {
   "cell_type": "markdown",
   "metadata": {},
   "source": [
    "## Chords and Appending Parts"
   ]
  },
  {
   "cell_type": "code",
   "execution_count": null,
   "metadata": {},
   "outputs": [],
   "source": [
    "s = corpus.parse('bwv66.6')\n",
    "s.show()"
   ]
  },
  {
   "cell_type": "code",
   "execution_count": null,
   "metadata": {},
   "outputs": [],
   "source": [
    "sChords = s.chordify()\n",
    "sChords.show()"
   ]
  },
  {
   "cell_type": "markdown",
   "metadata": {},
   "source": [
    "`sChords` is a part which has measures, which have the chords (and key signatures, etc.) inside. To get to the chords, we could \"flatten\" the score but that will remove the hierarchy. A safer alternative is to use the `recurse()` function"
   ]
  },
  {
   "cell_type": "markdown",
   "metadata": {},
   "source": [
    "Perhaps we can take each chord, make a reduction where appropriate, and put this in a separate part to join to the original score itself"
   ]
  },
  {
   "cell_type": "code",
   "execution_count": null,
   "metadata": {},
   "outputs": [],
   "source": [
    "#Be caerful, you may want to make a copy before you do in-place changes...\n",
    "#iterate through each measure object in the score\n",
    "for m in sChords.getElementsByClass('Measure'):\n",
    "    #iterate through each object in the measure\n",
    "    for c in m.getElementsByClass('Chord'):\n",
    "        #iterate through each chord, convert to closed position and put in 4th octave\n",
    "        c.closedPosition(forceOctave=4, inPlace=True) #inplace permanently changes the chord"
   ]
  },
  {
   "cell_type": "code",
   "execution_count": null,
   "metadata": {},
   "outputs": [],
   "source": [
    "sChords.show()"
   ]
  },
  {
   "cell_type": "code",
   "execution_count": null,
   "metadata": {},
   "outputs": [],
   "source": [
    "#recall our score object is saved as \"s\"\n",
    "#Add our chord reduction to the score obejct\n",
    "sChords.partName = 'Reduction'\n",
    "sChords.partAbbreviation = 'Harm'\n",
    "s.insert(0, sChords) #syntax: location to put item; item to insert\n",
    "s.show()\n"
   ]
  },
  {
   "cell_type": "markdown",
   "metadata": {},
   "source": [
    "### Exercise 3: \n",
    "Make a chord arrangement of a piece that is a bit more complex and compare the results. Try Mozart's K458 in the built-in corpus ('mozart/k458/movement1.mxl')"
   ]
  },
  {
   "cell_type": "markdown",
   "metadata": {},
   "source": [
    "## Rhythm analysis"
   ]
  },
  {
   "cell_type": "markdown",
   "metadata": {},
   "source": [
    "Let's look at the distribution of beat information in the same set of Essen songs:\n",
    "\n",
    "Note: one of them didn't import the time signature correctly! You can't get beat info without a time signature."
   ]
  },
  {
   "cell_type": "code",
   "execution_count": null,
   "metadata": {},
   "outputs": [],
   "source": [
    "beatOnsets = []\n",
    "for f in myfiles:\n",
    "    if f.recurse().getElementsByClass('TimeSignature'):\n",
    "        for n in f.flat.notes:\n",
    "            beatOnsets.append(n.beat)\n",
    "        "
   ]
  },
  {
   "cell_type": "code",
   "execution_count": null,
   "metadata": {},
   "outputs": [],
   "source": [
    "from collections import Counter\n",
    "Counter(beatOnsets)"
   ]
  },
  {
   "cell_type": "markdown",
   "metadata": {},
   "source": [
    "Note the \"fractions\" above are incorrect (in that those items never appear in the score). Not sure why this is happening. It's probably poor parsing of kern files. (if you plan to use kern files probably better to use Humdrum in many cases anyway for analysis.) The equivalent Humdrum function is:"
   ]
  },
  {
   "cell_type": "markdown",
   "metadata": {},
   "source": [
    "`beat *.krn | ridx -GLIdM | sort | uniq -c`"
   ]
  },
  {
   "cell_type": "markdown",
   "metadata": {},
   "source": [
    "In general, there are often many issues with music21's offsets (i.e., a note's location) so anything to do with location (and therefore beat and meter) should be used cautiously. For instance, notice the difference in output if looking for the offset position of notes within a measure (which should correspond to their beat positions minus 1)."
   ]
  },
  {
   "cell_type": "code",
   "execution_count": null,
   "metadata": {},
   "outputs": [],
   "source": [
    "offsets = []\n",
    "for f in myfiles:\n",
    "    for m in myfiles[0].parts[0].getElementsByClass('Measure'):\n",
    "        for n in m.notes:\n",
    "            offsets.append(n.offset)\n",
    "    "
   ]
  },
  {
   "cell_type": "code",
   "execution_count": null,
   "metadata": {},
   "outputs": [],
   "source": [
    "Counter(offsets)"
   ]
  },
  {
   "cell_type": "markdown",
   "metadata": {},
   "source": [
    "Let's try with a piece from the built-in corpus instead:"
   ]
  },
  {
   "cell_type": "code",
   "execution_count": null,
   "metadata": {},
   "outputs": [],
   "source": [
    "#note that each of these is a group of pieces that have been pre-assembled into a single piece\n",
    "favBach = corpus.parse('bwv66.6')"
   ]
  },
  {
   "cell_type": "code",
   "execution_count": null,
   "metadata": {},
   "outputs": [],
   "source": [
    "beatOnsets = []\n",
    "timesigs = []\n",
    "for i in favBach.flat.notes:\n",
    "    beatOnsets.append(i.beat)"
   ]
  },
  {
   "cell_type": "code",
   "execution_count": null,
   "metadata": {},
   "outputs": [],
   "source": [
    "Counter(beatOnsets)"
   ]
  },
  {
   "cell_type": "code",
   "execution_count": null,
   "metadata": {},
   "outputs": [],
   "source": [
    "p2 = corpus.parse('chopin/mazurka06-2.krn')\n",
    "p2.show()"
   ]
  },
  {
   "cell_type": "code",
   "execution_count": null,
   "metadata": {},
   "outputs": [],
   "source": [
    "beatOnsets = []\n",
    "timesigs = []\n",
    "for i in p2.flat.notes:\n",
    "    beatOnsets.append(i.beat)"
   ]
  },
  {
   "cell_type": "code",
   "execution_count": null,
   "metadata": {},
   "outputs": [],
   "source": [
    "Counter(beatOnsets)"
   ]
  },
  {
   "cell_type": "code",
   "execution_count": null,
   "metadata": {},
   "outputs": [],
   "source": [
    "#triplets on beat one: 3rd triplet in group\n",
    "5/3"
   ]
  },
  {
   "cell_type": "code",
   "execution_count": null,
   "metadata": {},
   "outputs": [],
   "source": [
    "#triplets on beat one: 2nd triplet in group\n",
    "4/3"
   ]
  },
  {
   "cell_type": "code",
   "execution_count": null,
   "metadata": {},
   "outputs": [],
   "source": [
    "#triplets on beat one: triplet 16th on second-to-last in group (note - I think this is an error)\n",
    "11/6"
   ]
  },
  {
   "cell_type": "markdown",
   "metadata": {},
   "source": [
    "### Exercise 4\n",
    "\n",
    "In addition to `.beat` notes also have a `beatStr` attribute. Examine the distribution of `beatStrength` in the file:\n",
    "\"joplin/maple_leaf_rag.mxl\" which is in the music21 corpus. What beat strength is the most common? Compare this output to the beat strengh profile of the \"bwv66.6\" file."
   ]
  },
  {
   "cell_type": "markdown",
   "metadata": {},
   "source": [
    "### Bonus:\n",
    "Go back to Exercise #3 and, in conjunction with the \"Intro_music21\" notebook, add the analysis under the reduction in the lyrics attribute."
   ]
  }
 ],
 "metadata": {
  "kernelspec": {
   "display_name": "Python 3",
   "language": "python",
   "name": "python3"
  },
  "language_info": {
   "codemirror_mode": {
    "name": "ipython",
    "version": 3
   },
   "file_extension": ".py",
   "mimetype": "text/x-python",
   "name": "python",
   "nbconvert_exporter": "python",
   "pygments_lexer": "ipython3",
   "version": "3.8.5"
  }
 },
 "nbformat": 4,
 "nbformat_minor": 4
}
