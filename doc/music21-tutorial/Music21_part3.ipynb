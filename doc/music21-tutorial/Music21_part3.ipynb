{
 "cells": [
  {
   "cell_type": "markdown",
   "metadata": {},
   "source": [
    "# Music21 - part 3"
   ]
  },
  {
   "cell_type": "code",
   "execution_count": null,
   "metadata": {},
   "outputs": [],
   "source": [
    "from music21 import *"
   ]
  },
  {
   "cell_type": "markdown",
   "metadata": {},
   "source": [
    "### Calculating harmonic intervals"
   ]
  },
  {
   "cell_type": "code",
   "execution_count": null,
   "metadata": {},
   "outputs": [],
   "source": [
    "stream2 = corpus.parse('beethoven/opus18no1/movement1.krn')\n",
    "stream2.measures(0,16).show()"
   ]
  },
  {
   "cell_type": "markdown",
   "metadata": {},
   "source": [
    "Let's calculate the vertical intervals between the two violin parts wherever they sound together at the same time.\n",
    "\n",
    "For all music21 is aware a \"chord\" is simply any two events that happen at the same time. So a vertical interval will just be a chord with 2 notes in it. We can therefore use \"chordify\" to get vertical intervals.\n",
    "\n",
    "Let's try it out on a few measures at a time:"
   ]
  },
  {
   "cell_type": "code",
   "execution_count": null,
   "metadata": {},
   "outputs": [],
   "source": [
    "#create new score object and append the parts you want into it.\n",
    "vlns = stream.Score()\n",
    "vlns.append([stream2.parts[0], stream2.parts[1]])"
   ]
  },
  {
   "cell_type": "code",
   "execution_count": null,
   "metadata": {},
   "outputs": [],
   "source": [
    "vlns.measures(5,8).show()"
   ]
  },
  {
   "cell_type": "markdown",
   "metadata": {},
   "source": [
    "Aside --> By the way: This tool is a bit buggy, but just becuase I haven't remembered to show it to you, there's also the option of midi playback within the notebook, which may be useful for some of you:"
   ]
  },
  {
   "cell_type": "code",
   "execution_count": null,
   "metadata": {},
   "outputs": [],
   "source": [
    "vlns.measures(5,8).show('midi')"
   ]
  },
  {
   "cell_type": "markdown",
   "metadata": {},
   "source": [
    "Anyway, back to getting vertical intervals:"
   ]
  },
  {
   "cell_type": "code",
   "execution_count": null,
   "metadata": {},
   "outputs": [],
   "source": [
    "ints = vlns.measures(5,8).chordify()\n",
    "ints.show()"
   ]
  },
  {
   "cell_type": "markdown",
   "metadata": {},
   "source": [
    "Remember that the output of chordify is a new stream.part object, so to get the intervals (i.e., chords) we still have to use .recurse()"
   ]
  },
  {
   "cell_type": "code",
   "execution_count": null,
   "metadata": {},
   "outputs": [],
   "source": [
    "#recall that .notes will get all single note and chord objects\n",
    "for i in ints.recurse().notes:\n",
    "    print(i.commonName)"
   ]
  },
  {
   "cell_type": "code",
   "execution_count": null,
   "metadata": {},
   "outputs": [],
   "source": [
    "#let's have a look at one chord object\n",
    "x = ints.recurse().notes[0]"
   ]
  },
  {
   "cell_type": "code",
   "execution_count": null,
   "metadata": {},
   "outputs": [],
   "source": [
    "x.notes"
   ]
  },
  {
   "cell_type": "code",
   "execution_count": null,
   "metadata": {},
   "outputs": [],
   "source": [
    "x.pitches"
   ]
  },
  {
   "cell_type": "code",
   "execution_count": null,
   "metadata": {},
   "outputs": [],
   "source": [
    "interval.Interval(x.notes[0],x.notes[1]).diatonic.directedSemiSimpleName"
   ]
  },
  {
   "cell_type": "markdown",
   "metadata": {},
   "source": [
    "Although a bit annoying, a chord object doesn't have a \"semitones\" attribute since it can contain more than 2 things. Therefore, you can either call the \"commonName\" attribute, or else you can expand the chord to get the notes inside it, and pass the first and second items in the tuple to get the interval size."
   ]
  },
  {
   "cell_type": "markdown",
   "metadata": {},
   "source": [
    "### Exercise #1:\n",
    "\n",
    "Examine the distribution of harmonic intervals between the first two violins in Mozart's \"mozart/k458/movement1.mxl\" in the built-in corpus.\n",
    "\n",
    "See if you can plot it either with music21's plotting abilities, or using the pandas library.\n",
    "\n",
    "**hint:** you can make a pandas.Series object by passing a list (as shown in part2)"
   ]
  },
  {
   "cell_type": "markdown",
   "metadata": {},
   "source": [
    "## Some tools for examining similarity"
   ]
  },
  {
   "cell_type": "code",
   "execution_count": null,
   "metadata": {},
   "outputs": [],
   "source": [
    "lassie = corpus.parse('ryansMammoth/BlackEyedLassieReelThe.abc')\n",
    "lassie.show()"
   ]
  },
  {
   "cell_type": "markdown",
   "metadata": {},
   "source": [
    "Music21 has a `repeat` module that has some built-in tools for finding repeated and similar measures. Be careful in dealing with pickup measures.\n",
    "\n",
    "Note that in the above you should ignore the measure numbers printed out, since the .abc file counts the pickup from 1 and music21 starts at 0."
   ]
  },
  {
   "cell_type": "markdown",
   "metadata": {},
   "source": [
    "Also the single note in \"measure 10\" is messing things up. We can manually intervene:"
   ]
  },
  {
   "cell_type": "code",
   "execution_count": null,
   "metadata": {},
   "outputs": [],
   "source": [
    "#make a copy in case we have to revert\n",
    "import copy\n",
    "newlassie = copy.deepcopy(lassie)"
   ]
  },
  {
   "cell_type": "code",
   "execution_count": null,
   "metadata": {},
   "outputs": [],
   "source": [
    "#get rid of the barline in m.8\n",
    "newlassie.parts[0].measure(8).removeByClass('Barline')"
   ]
  },
  {
   "cell_type": "code",
   "execution_count": null,
   "metadata": {},
   "outputs": [],
   "source": [
    "#get rid of measure 9 and contents\n",
    "m9 = newlassie.parts[0].measure(9)\n",
    "newlassie.parts[0].remove(m9, recurse=True)\n",
    "\n",
    "#add the B- back in\n",
    "newlassie.parts[0].measure(8).insert(3.5, note.Note('B-4', quarterLength=0.5))"
   ]
  },
  {
   "cell_type": "code",
   "execution_count": null,
   "metadata": {},
   "outputs": [],
   "source": [
    "newlassie.show()"
   ]
  },
  {
   "cell_type": "code",
   "execution_count": null,
   "metadata": {},
   "outputs": [],
   "source": [
    "#show measures or groups of measures that repeat (this will get largest groups)\n",
    "from music21 import repeat\n",
    "repeat.RepeatFinder(newlassie.parts[0]).getSimilarMeasureGroups()"
   ]
  },
  {
   "cell_type": "code",
   "execution_count": null,
   "metadata": {},
   "outputs": [],
   "source": [
    "#This is a thing... but I have no idea how to interpret the results. If anyone can figure it out, bonus points!\n",
    "# http://web.mit.edu/music21/doc/moduleReference/moduleRepeat.html?highlight=repeatfinder%20getmeasuresimilaritylist#music21.repeat.RepeatFinder.getMeasureSimilarityList\n",
    "repeat.RepeatFinder(newlassie.parts[0]).getMeasureSimilarityList()"
   ]
  },
  {
   "cell_type": "markdown",
   "metadata": {},
   "source": [
    "The \"pickup\" finder may be useful:"
   ]
  },
  {
   "cell_type": "code",
   "execution_count": null,
   "metadata": {},
   "outputs": [],
   "source": [
    "repeat.RepeatFinder(lassie.parts[0]).getQuarterLengthOfPickupMeasure()"
   ]
  },
  {
   "cell_type": "markdown",
   "metadata": {},
   "source": [
    "We could also come up with a custom routine to do something like this ourselves, but with more control over the object we are computing the similarity on (e.g., pitch class content, duration sequence, beat strength, etc.)\n",
    "\n",
    "Here is a piece of coe that will create lists of four measures (a phrase) and place them inside a larger list (streamLists) which should be a container for phrases."
   ]
  },
  {
   "cell_type": "code",
   "execution_count": null,
   "metadata": {},
   "outputs": [],
   "source": [
    "streamLists = []\n",
    "fourms = []\n",
    "for i, m in enumerate(newlassie.parts[0].getElementsByClass('Measure')):\n",
    "    #append each measure to the inner list\n",
    "    # note that 0 modulo 4 is still 0, so...\n",
    "    if i != 0:\n",
    "        fourms.append(m)\n",
    "    #whenever the length of the list reaches 4 items place in outer list, and reset inner list to empty\n",
    "    if (i % 4 == 0) and (i != 0 ): \n",
    "        streamLists.append(fourms)\n",
    "        fourms = []\n",
    "    #in case the entire piece length in measures is not divisible by four, grab remaining measures:\n",
    "    elif i == len(newlassie.parts[0].getElementsByClass('Measure')):  \n",
    "        streamLists.append(fourms)\n",
    "      \n",
    "\n",
    "streamLists  "
   ]
  },
  {
   "cell_type": "markdown",
   "metadata": {},
   "source": [
    "Now that I have a list of phrases, I can iterate over all the notes in each phrase, and return a list of some feature of interest in order to compute the similarity. Let's look at durations, for example:"
   ]
  },
  {
   "cell_type": "code",
   "execution_count": null,
   "metadata": {},
   "outputs": [],
   "source": [
    "#create empty list\n",
    "durs = []\n",
    "#iterate over list of phrases:\n",
    "for l in streamLists:\n",
    "    #create inner list to maintain structure\n",
    "    n_list = []\n",
    "    #get all the notes at the phrase level, return or compute feature of interest\n",
    "    for m in l:\n",
    "        for n in m.notes:\n",
    "            n_list.append(n.duration.quarterLength)\n",
    "    durs.append(n_list)\n",
    "        \n",
    "durs"
   ]
  },
  {
   "cell_type": "markdown",
   "metadata": {},
   "source": [
    "So I have a list of durations for each phrase. How might I be able to calculate the similarity for pairs of phrases? Let's look at two useful tools from two non-music21 libraries `itertools.combinations` and `difflib.SequenceMatcher`:"
   ]
  },
  {
   "cell_type": "code",
   "execution_count": null,
   "metadata": {},
   "outputs": [],
   "source": [
    "#demo how itertools.combinations works\n",
    "l = [[1,2],[3,4],[5,6]]\n",
    "import itertools\n",
    "x = itertools.combinations(l,2)\n",
    "print([i for i in x])"
   ]
  },
  {
   "cell_type": "markdown",
   "metadata": {},
   "source": [
    "The following tool is also useful:\n",
    "https://docs.python.org/3/library/difflib.html#difflib.SequenceMatcher"
   ]
  },
  {
   "cell_type": "code",
   "execution_count": null,
   "metadata": {},
   "outputs": [],
   "source": [
    "#demo of how \"sequence matcher\" works\n",
    "import difflib\n",
    "s1=[1,8,3,9,4,9,3,8,1,2,3]\n",
    "s2=[1,8,1,3,9,4,9,3,8,1,2,3]\n",
    "sm=difflib.SequenceMatcher(None,s1,s2)\n",
    "sm.ratio()"
   ]
  },
  {
   "cell_type": "code",
   "execution_count": null,
   "metadata": {},
   "outputs": [],
   "source": [
    "#demo 2\n",
    "s1=['a','b','c','d']\n",
    "s2=['a','b','c','e']\n",
    "sm=difflib.SequenceMatcher(None,s1,s2)\n",
    "sm.ratio()"
   ]
  },
  {
   "cell_type": "code",
   "execution_count": null,
   "metadata": {},
   "outputs": [],
   "source": [
    "#here is a piece of code that will compute the correlation across every pair of phrases in this group of 4 phrases\n",
    "#get pair-wise combinations of all phrases\n",
    "pairs = list(itertools.combinations(durs, 2))\n",
    "#to keep track of pairs, create list of names in same order. Note I'm using numbers but you could easily name them.\n",
    "pairnames = list(itertools.combinations(list(range(0,len(durs))),2))\n",
    "\n",
    "for i, j in enumerate(pairs):\n",
    "    sm = difflib.SequenceMatcher(None, j[0], j[1])\n",
    "    print(pairnames[i], sm.ratio())"
   ]
  },
  {
   "cell_type": "markdown",
   "metadata": {},
   "source": [
    "Note that `itertools.combinations` returns an interable which is not hashable. If you want to index the combinations or subsets of combinations, you have to first convert it to a list as I have done above."
   ]
  },
  {
   "cell_type": "markdown",
   "metadata": {},
   "source": [
    "### Exercise 2\n",
    "\n",
    "Upload the Beatle's tune \"Eight Days a Week\" from Canvas to the server and import it into music21.\n",
    "Extract the upper-most part.\n",
    "\n",
    "    (a) compute the similarity of measures using music21's `RepeatFinder` tools (as shown above). \n",
    "    \n",
    "    (b) compute the similarity of the similarity of the rhythms, using any tools or functions you like\n",
    "    \n",
    "    (c) compute the similarity of the pitch class content, using any tools or functions you like."
   ]
  }
 ],
 "metadata": {
  "kernelspec": {
   "display_name": "Python 3",
   "language": "python",
   "name": "python3"
  },
  "language_info": {
   "codemirror_mode": {
    "name": "ipython",
    "version": 3
   },
   "file_extension": ".py",
   "mimetype": "text/x-python",
   "name": "python",
   "nbconvert_exporter": "python",
   "pygments_lexer": "ipython3",
   "version": "3.8.5"
  }
 },
 "nbformat": 4,
 "nbformat_minor": 4
}
