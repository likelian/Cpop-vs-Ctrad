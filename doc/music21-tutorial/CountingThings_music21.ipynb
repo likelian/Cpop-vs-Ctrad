{
 "cells": [
  {
   "cell_type": "code",
   "execution_count": null,
   "metadata": {},
   "outputs": [],
   "source": [
    "from music21 import corpus, stream\n",
    "import matplotlib.pyplot as plt\n",
    "import seaborn as sns\n",
    "import numpy as np\n",
    "#these are python magic commands:\n",
    "%matplotlib inline \n",
    "%config InlineBackend.figure_format ='svg'"
   ]
  },
  {
   "cell_type": "code",
   "execution_count": null,
   "metadata": {},
   "outputs": [],
   "source": [
    "schoenberg = corpus.parse('schoenberg/opus19')"
   ]
  },
  {
   "cell_type": "markdown",
   "metadata": {
    "colab_type": "text",
    "id": "b6UYODPxS-6K"
   },
   "source": [
    "### Accessing and counting things"
   ]
  },
  {
   "cell_type": "markdown",
   "metadata": {},
   "source": [
    "We can figure out how to manually access all the objects from the score in this tutorial: http://web.mit.edu/music21/doc/usersGuide/usersGuide_06_stream2.html \n",
    "\n",
    "Specifically in the section **Accessing Scores, Parts, Measures, and Notes**\n",
    "\n",
    "As we can see, the Score object typically contains: (1) a Metadata object, (2) a StaffGroup object, and (3) *n* Part objects. "
   ]
  },
  {
   "cell_type": "code",
   "execution_count": null,
   "metadata": {},
   "outputs": [],
   "source": [
    "schoenberg"
   ]
  },
  {
   "cell_type": "code",
   "execution_count": null,
   "metadata": {},
   "outputs": [],
   "source": [
    "schoenberg[0]"
   ]
  },
  {
   "cell_type": "code",
   "execution_count": null,
   "metadata": {},
   "outputs": [],
   "source": [
    "schoenberg[1]"
   ]
  },
  {
   "cell_type": "code",
   "execution_count": null,
   "metadata": {},
   "outputs": [],
   "source": [
    "schoenberg[2]"
   ]
  },
  {
   "cell_type": "markdown",
   "metadata": {},
   "source": [
    "(Notice the `getElementsByClass` method that is available to every type of music21 stream object. You can provide it the technical name *not* in string quotes, or else a short-hand string representing the object (e.g., \"Part\", \"Note\", etc.))\n",
    "\n",
    "The `len` (length) basic Python command is a handy way of accessing the number of \"things\" in an object. This will only examine the next-lower level of the hierarchy. So inside parts are typically measures. Thus, we can access the length of the first part like so:"
   ]
  },
  {
   "cell_type": "code",
   "execution_count": null,
   "metadata": {},
   "outputs": [],
   "source": [
    "len(schoenberg[2])"
   ]
  },
  {
   "cell_type": "markdown",
   "metadata": {},
   "source": [
    "However, not every item is a measure. "
   ]
  },
  {
   "cell_type": "code",
   "execution_count": null,
   "metadata": {},
   "outputs": [],
   "source": [
    "len(schoenberg.getElementsByClass(stream.Part)[0].getElementsByClass(stream.Measure))"
   ]
  },
  {
   "cell_type": "markdown",
   "metadata": {},
   "source": [
    "So the first part (and presumably all parts) have 9 measures. Notice that the `stream.Score` object \"level\" does not, technically, \"contain\" measures.\n",
    "\n",
    "Also notice that it will not return an error since there is nothing inappropriate about the query:"
   ]
  },
  {
   "cell_type": "code",
   "execution_count": null,
   "metadata": {},
   "outputs": [],
   "source": [
    "len(schoenberg.getElementsByClass('Measure'))"
   ]
  },
  {
   "cell_type": "markdown",
   "metadata": {},
   "source": [
    "There is a \"convenience\" property for accessing parts:"
   ]
  },
  {
   "cell_type": "code",
   "execution_count": null,
   "metadata": {},
   "outputs": [],
   "source": [
    "len(schoenberg.parts)"
   ]
  },
  {
   "cell_type": "markdown",
   "metadata": {},
   "source": [
    "list comprehensions are useful when you want to print out what the actual parts are called:"
   ]
  },
  {
   "cell_type": "code",
   "execution_count": null,
   "metadata": {},
   "outputs": [],
   "source": [
    "[i for i in schoenberg.parts]"
   ]
  },
  {
   "cell_type": "markdown",
   "metadata": {},
   "source": [
    "But how can we know what else is inside the part object besides measures? We can always call `.show('text')` to print out the contents of an object container"
   ]
  },
  {
   "cell_type": "code",
   "execution_count": null,
   "metadata": {},
   "outputs": [],
   "source": [
    "schoenberg.parts[0].show('text')"
   ]
  },
  {
   "cell_type": "markdown",
   "metadata": {},
   "source": [
    "Music21 has other \"convenience\" calls, e.g., for getting notes: `.notes` is equivalent to `.getElementsByClass([\"Note\", \"Chord\"])`; and `.notesAndRests` is equivalent to `.getElementsByClass(['Note', 'Chord', 'Rest'])`. Also, for any class in Python, you can use the function `help(Class)` to find out what it can do."
   ]
  },
  {
   "cell_type": "markdown",
   "metadata": {},
   "source": [
    "#### ContextByClass & Context attributes\n",
    "A lot of music21 objects are \"smart\" in that they can access properties of themselves relative to some other object. (read more here: https://web.mit.edu/music21/doc/usersGuide/usersGuide_13_music21object2.html). \n",
    "\n",
    "For example, `note.Note().measurenumber` allows a note to access the measure number it is located in, and `note.Note().beat` or `note.Note().beatStrength` will return the note's beat position or beat strength assuming there is a time signature object.\n",
    "\n",
    "In this case the \"context\" refers to the next-closest hierarchy object. Since there can be multiple *types* of context, there is a whole method for this: `getContextByClass()` \n",
    "\n",
    "We can use `getContextByClass()` for retrieving things like what part a note is in (`getContextByClass('Part')`) or what key a particular note is in (`getContextByClass('Key')`) -- assuming the work has at least one part object and one key object."
   ]
  },
  {
   "cell_type": "markdown",
   "metadata": {},
   "source": [
    "## Multiple Methods: Counting Durations\n",
    "\n",
    "Our goal is to count up all the rhythmic durations. But, how are we defining \"one unit\"? Are any two or more notes that sound together counted as \"one\" duration or two? What about across the parts? Let's try a few different methods to see what we can do. \n",
    "\n",
    "#### Method one:\n",
    "count notes in each part (i.e., hand) separately, except when they form a \"chord\" object (i.e., are a simultaneous event within the part) where we will count any simultaneities as a single object with a single duration. Fortunately \"chords\" are counted as \"notes\""
   ]
  },
  {
   "cell_type": "code",
   "execution_count": null,
   "metadata": {},
   "outputs": [],
   "source": [
    "durs = []\n",
    "for i in schoenberg.parts:\n",
    "    for m in i.getElementsByClass(stream.Measure):\n",
    "         for n in m.notes:\n",
    "             print(n, n.duration.quarterLength, n.activeSite)\n",
    "             durs.append(n.duration.quarterLength)"
   ]
  },
  {
   "cell_type": "code",
   "execution_count": null,
   "metadata": {},
   "outputs": [],
   "source": [
    "vals, counts = np.unique(durs, return_counts=True)\n",
    "print(vals, counts)"
   ]
  },
  {
   "cell_type": "markdown",
   "metadata": {},
   "source": [
    "Let's graph the totals:"
   ]
  },
  {
   "cell_type": "code",
   "execution_count": null,
   "metadata": {},
   "outputs": [],
   "source": [
    "sns.set(style=\"darkgrid\")\n",
    "sns.barplot(vals,counts,color=\"skyblue\");"
   ]
  },
  {
   "cell_type": "markdown",
   "metadata": {},
   "source": [
    "#### Method two:\n",
    "use music21's `score.flat` property to \"flatten\" the hierarchical encoding into a single stream, then count note durations. Note by doing this, we no longer have access to the part where the original chord or note appeared."
   ]
  },
  {
   "cell_type": "code",
   "execution_count": null,
   "metadata": {},
   "outputs": [],
   "source": [
    "durs2 = []\n",
    "for n in schoenberg.flat.notes:\n",
    "    print(n, n.duration.quarterLength, n.activeSite)\n",
    "    durs2.append(n.duration.quarterLength)"
   ]
  },
  {
   "cell_type": "code",
   "execution_count": null,
   "metadata": {},
   "outputs": [],
   "source": [
    "vals2, counts2 = np.unique(durs2, return_counts=True)\n",
    "print(vals2, counts2)"
   ]
  },
  {
   "cell_type": "code",
   "execution_count": null,
   "metadata": {},
   "outputs": [],
   "source": [
    "# sns.set(style=\"darkgrid\")\n",
    "sns.barplot(vals2,counts2,color=\"skyblue\");"
   ]
  },
  {
   "cell_type": "markdown",
   "metadata": {},
   "source": [
    "This time we counted 4 more 8th notes,1 more quarter note, and 3 more half notes! Why? What was missed? (Notice the method you choose can impact the outcome. This is just for a single piece. Imagine the difference across a whole corpus?)"
   ]
  },
  {
   "cell_type": "markdown",
   "metadata": {},
   "source": [
    "Our second method *should* work in the same way as using `score.recurse()`. Let's check a third method. Notice using `score.recurse()` allows us to retrieve the original object's location.\n",
    "\n",
    "#### Method 3"
   ]
  },
  {
   "cell_type": "code",
   "execution_count": null,
   "metadata": {},
   "outputs": [],
   "source": [
    "durs3 = []\n",
    "for n in schoenberg.recurse().notes:\n",
    "    print(n, n.activeSite, n.duration.quarterLength)\n",
    "    durs3.append(n.duration.quarterLength)"
   ]
  },
  {
   "cell_type": "code",
   "execution_count": null,
   "metadata": {},
   "outputs": [],
   "source": [
    "vals3, counts3 = np.unique(durs3, return_counts=True)\n",
    "print(vals3, counts3)"
   ]
  },
  {
   "cell_type": "markdown",
   "metadata": {},
   "source": [
    "OK, this method got us the same as the counts for method #2 (no need to plot).  \n",
    "\n",
    "So why did our first method differ from the last two methods? Why did our count of eighth notes (and quarter and half notes) increase?  \n",
    "\n",
    "Let's try tallying events manually. Be sure to count tied notes according to their total durations. \"LHRH\" should only count events that happen in both hands at the same time as a single object with single duration. \"Total\" should ignore \"LHRH\" and sum the LH and RH totals. \n",
    "\n",
    "Fill in the following table:\n",
    "\n",
    "|   | 0.25 | 0.5  | 1.  | 1.5  | 2  | 2.5 |\n",
    "|---|---|---|---|---|---|---|\n",
    "|  RH |  |   |   |   |   |   |\n",
    "|  LH |   |   |   |   |   |   |\n",
    "|  LHRH |   |   |   |   |   |   |\n",
    "| Total  |   |   |   |   |   |   |"
   ]
  },
  {
   "cell_type": "code",
   "execution_count": null,
   "metadata": {},
   "outputs": [],
   "source": [
    "schoenberg.show()"
   ]
  },
  {
   "cell_type": "markdown",
   "metadata": {},
   "source": [
    "Q: Do your counts from any row match the counts from any of our methods? What do you think might have happened? (For instance, why are there no counts of 2.5 or half+eighth?"
   ]
  },
  {
   "cell_type": "code",
   "execution_count": null,
   "metadata": {},
   "outputs": [],
   "source": [
    "schoenberg.show()"
   ]
  },
  {
   "cell_type": "markdown",
   "metadata": {},
   "source": [
    "Let's try one final method, using the `stripTies()` method\n",
    "\n",
    "#### Method 4"
   ]
  },
  {
   "cell_type": "code",
   "execution_count": null,
   "metadata": {},
   "outputs": [],
   "source": [
    "durs4 = []\n",
    "for i in schoenberg.parts:\n",
    "    for n in i.getElementsByClass(stream.Measure).stripTies():\n",
    "        if not n.isRest:\n",
    "            print(n, n.duration.quarterLength, n.activeSite)\n",
    "            durs4.append(n.duration.quarterLength)"
   ]
  },
  {
   "cell_type": "code",
   "execution_count": null,
   "metadata": {},
   "outputs": [],
   "source": [
    "vals4, counts4 = np.unique(durs4, return_counts=True)\n",
    "print(vals4, counts4)"
   ]
  },
  {
   "cell_type": "code",
   "execution_count": null,
   "metadata": {},
   "outputs": [],
   "source": [
    "sns.barplot(vals4, counts4, color=\"skyblue\")"
   ]
  },
  {
   "cell_type": "markdown",
   "metadata": {},
   "source": [
    "Notice that **method one** did not find elements that were in sub-streams (`stream.Voice`) of the main Stream. But **methods one through three** did not properly count notes that were tied across measures. We had to use `stripTies()` at the part level, which by default removes measure objects (and doesn't work properly if we try to retain them) to get the correct count.\n",
    "\n",
    "Notice that there are other methods still that will obtain the incorrect count given what we want. **Hopefully this excercise illustrates the importance of \"sanity checks\" on a very small sample.** That is, don't **assume** that a piece of code does what you think it does.\n",
    "\n",
    "As a final illustration, below is what we get when we rely on music21's built-in `music21.graph` object for counting durations. Because scores can be assembled many different ways, and there are many different ways to access the objects in music21, a \"one size fits all\" approach often fails. Be sure to check that you are getting the data you think you need!"
   ]
  },
  {
   "cell_type": "code",
   "execution_count": null,
   "metadata": {},
   "outputs": [],
   "source": [
    "p = graph.plot.HistogramQuarterLength(schoenberg);\n",
    "p.run()"
   ]
  }
 ],
 "metadata": {
  "kernelspec": {
   "display_name": "Python 3",
   "language": "python",
   "name": "python3"
  },
  "language_info": {
   "codemirror_mode": {
    "name": "ipython",
    "version": 3
   },
   "file_extension": ".py",
   "mimetype": "text/x-python",
   "name": "python",
   "nbconvert_exporter": "python",
   "pygments_lexer": "ipython3",
   "version": "3.8.5"
  }
 },
 "nbformat": 4,
 "nbformat_minor": 2
}
